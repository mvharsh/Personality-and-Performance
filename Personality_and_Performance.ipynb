{
  "nbformat": 4,
  "nbformat_minor": 0,
  "metadata": {
    "colab": {
      "provenance": [],
      "authorship_tag": "ABX9TyNJCeIYEw64EQH4PQ7b5WVq",
      "include_colab_link": true
    },
    "kernelspec": {
      "name": "python3",
      "display_name": "Python 3"
    },
    "language_info": {
      "name": "python"
    }
  },
  "cells": [
    {
      "cell_type": "markdown",
      "metadata": {
        "id": "view-in-github",
        "colab_type": "text"
      },
      "source": [
        "<a href=\"https://colab.research.google.com/github/mvharsh/Personality-and-Performance/blob/main/Personality_and_Performance.ipynb\" target=\"_parent\"><img src=\"https://colab.research.google.com/assets/colab-badge.svg\" alt=\"Open In Colab\"/></a>"
      ]
    },
    {
      "cell_type": "code",
      "execution_count": null,
      "metadata": {
        "colab": {
          "base_uri": "https://localhost:8080/",
          "height": 270
        },
        "id": "sSCeYSimDIv3",
        "outputId": "0b0d1ce7-b31e-488b-93ca-2b80673c4f47"
      },
      "outputs": [
        {
          "output_type": "execute_result",
          "data": {
            "text/plain": [
              "   age  gender  factor_1  factor_2  factor_3  factor_4  factor_5  cgpa  \\\n",
              "0   19       0         4         5         3         4         3  9.83   \n",
              "1   19       0         4         4         3         3         3  8.97   \n",
              "2   19       1         4         4         1         1         3  7.80   \n",
              "3   18       0         4         4         5         4         3  8.67   \n",
              "4   19       1         3         4         3         4         4  7.92   \n",
              "\n",
              "   personality_Dependable  personality_Extraverted  personality_Lively  \\\n",
              "0                       0                        0                   0   \n",
              "1                       0                        0                   1   \n",
              "2                       1                        0                   0   \n",
              "3                       0                        0                   1   \n",
              "4                       0                        0                   1   \n",
              "\n",
              "   personality_Responsible  personality_Serious  \n",
              "0                        1                    0  \n",
              "1                        0                    0  \n",
              "2                        0                    0  \n",
              "3                        0                    0  \n",
              "4                        0                    0  "
            ],
            "text/html": [
              "\n",
              "  <div id=\"df-dd6df592-66f7-42a6-93a5-d7b4e6538996\">\n",
              "    <div class=\"colab-df-container\">\n",
              "      <div>\n",
              "<style scoped>\n",
              "    .dataframe tbody tr th:only-of-type {\n",
              "        vertical-align: middle;\n",
              "    }\n",
              "\n",
              "    .dataframe tbody tr th {\n",
              "        vertical-align: top;\n",
              "    }\n",
              "\n",
              "    .dataframe thead th {\n",
              "        text-align: right;\n",
              "    }\n",
              "</style>\n",
              "<table border=\"1\" class=\"dataframe\">\n",
              "  <thead>\n",
              "    <tr style=\"text-align: right;\">\n",
              "      <th></th>\n",
              "      <th>age</th>\n",
              "      <th>gender</th>\n",
              "      <th>factor_1</th>\n",
              "      <th>factor_2</th>\n",
              "      <th>factor_3</th>\n",
              "      <th>factor_4</th>\n",
              "      <th>factor_5</th>\n",
              "      <th>cgpa</th>\n",
              "      <th>personality_Dependable</th>\n",
              "      <th>personality_Extraverted</th>\n",
              "      <th>personality_Lively</th>\n",
              "      <th>personality_Responsible</th>\n",
              "      <th>personality_Serious</th>\n",
              "    </tr>\n",
              "  </thead>\n",
              "  <tbody>\n",
              "    <tr>\n",
              "      <th>0</th>\n",
              "      <td>19</td>\n",
              "      <td>0</td>\n",
              "      <td>4</td>\n",
              "      <td>5</td>\n",
              "      <td>3</td>\n",
              "      <td>4</td>\n",
              "      <td>3</td>\n",
              "      <td>9.83</td>\n",
              "      <td>0</td>\n",
              "      <td>0</td>\n",
              "      <td>0</td>\n",
              "      <td>1</td>\n",
              "      <td>0</td>\n",
              "    </tr>\n",
              "    <tr>\n",
              "      <th>1</th>\n",
              "      <td>19</td>\n",
              "      <td>0</td>\n",
              "      <td>4</td>\n",
              "      <td>4</td>\n",
              "      <td>3</td>\n",
              "      <td>3</td>\n",
              "      <td>3</td>\n",
              "      <td>8.97</td>\n",
              "      <td>0</td>\n",
              "      <td>0</td>\n",
              "      <td>1</td>\n",
              "      <td>0</td>\n",
              "      <td>0</td>\n",
              "    </tr>\n",
              "    <tr>\n",
              "      <th>2</th>\n",
              "      <td>19</td>\n",
              "      <td>1</td>\n",
              "      <td>4</td>\n",
              "      <td>4</td>\n",
              "      <td>1</td>\n",
              "      <td>1</td>\n",
              "      <td>3</td>\n",
              "      <td>7.80</td>\n",
              "      <td>1</td>\n",
              "      <td>0</td>\n",
              "      <td>0</td>\n",
              "      <td>0</td>\n",
              "      <td>0</td>\n",
              "    </tr>\n",
              "    <tr>\n",
              "      <th>3</th>\n",
              "      <td>18</td>\n",
              "      <td>0</td>\n",
              "      <td>4</td>\n",
              "      <td>4</td>\n",
              "      <td>5</td>\n",
              "      <td>4</td>\n",
              "      <td>3</td>\n",
              "      <td>8.67</td>\n",
              "      <td>0</td>\n",
              "      <td>0</td>\n",
              "      <td>1</td>\n",
              "      <td>0</td>\n",
              "      <td>0</td>\n",
              "    </tr>\n",
              "    <tr>\n",
              "      <th>4</th>\n",
              "      <td>19</td>\n",
              "      <td>1</td>\n",
              "      <td>3</td>\n",
              "      <td>4</td>\n",
              "      <td>3</td>\n",
              "      <td>4</td>\n",
              "      <td>4</td>\n",
              "      <td>7.92</td>\n",
              "      <td>0</td>\n",
              "      <td>0</td>\n",
              "      <td>1</td>\n",
              "      <td>0</td>\n",
              "      <td>0</td>\n",
              "    </tr>\n",
              "  </tbody>\n",
              "</table>\n",
              "</div>\n",
              "      <button class=\"colab-df-convert\" onclick=\"convertToInteractive('df-dd6df592-66f7-42a6-93a5-d7b4e6538996')\"\n",
              "              title=\"Convert this dataframe to an interactive table.\"\n",
              "              style=\"display:none;\">\n",
              "        \n",
              "  <svg xmlns=\"http://www.w3.org/2000/svg\" height=\"24px\"viewBox=\"0 0 24 24\"\n",
              "       width=\"24px\">\n",
              "    <path d=\"M0 0h24v24H0V0z\" fill=\"none\"/>\n",
              "    <path d=\"M18.56 5.44l.94 2.06.94-2.06 2.06-.94-2.06-.94-.94-2.06-.94 2.06-2.06.94zm-11 1L8.5 8.5l.94-2.06 2.06-.94-2.06-.94L8.5 2.5l-.94 2.06-2.06.94zm10 10l.94 2.06.94-2.06 2.06-.94-2.06-.94-.94-2.06-.94 2.06-2.06.94z\"/><path d=\"M17.41 7.96l-1.37-1.37c-.4-.4-.92-.59-1.43-.59-.52 0-1.04.2-1.43.59L10.3 9.45l-7.72 7.72c-.78.78-.78 2.05 0 2.83L4 21.41c.39.39.9.59 1.41.59.51 0 1.02-.2 1.41-.59l7.78-7.78 2.81-2.81c.8-.78.8-2.07 0-2.86zM5.41 20L4 18.59l7.72-7.72 1.47 1.35L5.41 20z\"/>\n",
              "  </svg>\n",
              "      </button>\n",
              "      \n",
              "  <style>\n",
              "    .colab-df-container {\n",
              "      display:flex;\n",
              "      flex-wrap:wrap;\n",
              "      gap: 12px;\n",
              "    }\n",
              "\n",
              "    .colab-df-convert {\n",
              "      background-color: #E8F0FE;\n",
              "      border: none;\n",
              "      border-radius: 50%;\n",
              "      cursor: pointer;\n",
              "      display: none;\n",
              "      fill: #1967D2;\n",
              "      height: 32px;\n",
              "      padding: 0 0 0 0;\n",
              "      width: 32px;\n",
              "    }\n",
              "\n",
              "    .colab-df-convert:hover {\n",
              "      background-color: #E2EBFA;\n",
              "      box-shadow: 0px 1px 2px rgba(60, 64, 67, 0.3), 0px 1px 3px 1px rgba(60, 64, 67, 0.15);\n",
              "      fill: #174EA6;\n",
              "    }\n",
              "\n",
              "    [theme=dark] .colab-df-convert {\n",
              "      background-color: #3B4455;\n",
              "      fill: #D2E3FC;\n",
              "    }\n",
              "\n",
              "    [theme=dark] .colab-df-convert:hover {\n",
              "      background-color: #434B5C;\n",
              "      box-shadow: 0px 1px 3px 1px rgba(0, 0, 0, 0.15);\n",
              "      filter: drop-shadow(0px 1px 2px rgba(0, 0, 0, 0.3));\n",
              "      fill: #FFFFFF;\n",
              "    }\n",
              "  </style>\n",
              "\n",
              "      <script>\n",
              "        const buttonEl =\n",
              "          document.querySelector('#df-dd6df592-66f7-42a6-93a5-d7b4e6538996 button.colab-df-convert');\n",
              "        buttonEl.style.display =\n",
              "          google.colab.kernel.accessAllowed ? 'block' : 'none';\n",
              "\n",
              "        async function convertToInteractive(key) {\n",
              "          const element = document.querySelector('#df-dd6df592-66f7-42a6-93a5-d7b4e6538996');\n",
              "          const dataTable =\n",
              "            await google.colab.kernel.invokeFunction('convertToInteractive',\n",
              "                                                     [key], {});\n",
              "          if (!dataTable) return;\n",
              "\n",
              "          const docLinkHtml = 'Like what you see? Visit the ' +\n",
              "            '<a target=\"_blank\" href=https://colab.research.google.com/notebooks/data_table.ipynb>data table notebook</a>'\n",
              "            + ' to learn more about interactive tables.';\n",
              "          element.innerHTML = '';\n",
              "          dataTable['output_type'] = 'display_data';\n",
              "          await google.colab.output.renderOutput(dataTable, element);\n",
              "          const docLink = document.createElement('div');\n",
              "          docLink.innerHTML = docLinkHtml;\n",
              "          element.appendChild(docLink);\n",
              "        }\n",
              "      </script>\n",
              "    </div>\n",
              "  </div>\n",
              "  "
            ]
          },
          "metadata": {},
          "execution_count": 1
        }
      ],
      "source": [
        "import pandas as pd\n",
        "import numpy as np\n",
        "\n",
        "df = pd.read_csv('PA sample 3.csv')\n",
        "\n",
        "df = pd.DataFrame(df)\n",
        "\n",
        "\n",
        "columns_to_drop = ['Timestamp', 'Email address']\n",
        "df.drop(columns=columns_to_drop, inplace=True)\n",
        "\n",
        "column_names = df.columns.tolist()\n",
        "\n",
        "column_names[0] = 'age'\n",
        "column_names[1] = 'gender'\n",
        "column_names[2] = 'factor_1'\n",
        "column_names[3] = 'factor_2'\n",
        "column_names[4] = 'factor_3'\n",
        "column_names[5] = 'factor_4'\n",
        "column_names[6] = 'factor_5'\n",
        "column_names[7] = 'personality'\n",
        "column_names[8] = 'cgpa'\n",
        "\n",
        "df.columns = column_names\n",
        "\n",
        "df = pd.DataFrame(df)\n",
        "\n",
        "# Encode categorical variable \"personality\" using one-hot encoding\n",
        "df = pd.get_dummies(df, columns=['personality'])\n",
        "\n",
        "# Map \"Female\" to 0 and \"Male\" to 1 in the \"gender\" column\n",
        "df['gender'] = df['gender'].map({'Female': 0, 'Male': 1})\n",
        "# df3['factor_5'] = df3['factor_5'].map({1: 5, 2: 4, 3: 3, 4: 2, 5: 1})\n",
        "\n",
        "df.head()\n"
      ]
    },
    {
      "cell_type": "code",
      "source": [
        "# Check for missing values\n",
        "df.isnull().sum()"
      ],
      "metadata": {
        "colab": {
          "base_uri": "https://localhost:8080/"
        },
        "id": "9_ElAcCHJ-Mu",
        "outputId": "7190a093-2dd9-403a-ded5-5c0838705695"
      },
      "execution_count": null,
      "outputs": [
        {
          "output_type": "execute_result",
          "data": {
            "text/plain": [
              "age                        0\n",
              "gender                     0\n",
              "factor_1                   0\n",
              "factor_2                   0\n",
              "factor_3                   0\n",
              "factor_4                   0\n",
              "factor_5                   0\n",
              "cgpa                       0\n",
              "personality_Dependable     0\n",
              "personality_Extraverted    0\n",
              "personality_Lively         0\n",
              "personality_Responsible    0\n",
              "personality_Serious        0\n",
              "dtype: int64"
            ]
          },
          "metadata": {},
          "execution_count": 2
        }
      ]
    },
    {
      "cell_type": "code",
      "source": [
        "df.info()"
      ],
      "metadata": {
        "colab": {
          "base_uri": "https://localhost:8080/"
        },
        "id": "_4R6gdoxJENV",
        "outputId": "ff22423b-9d03-48cf-8910-5b5136855940"
      },
      "execution_count": null,
      "outputs": [
        {
          "output_type": "stream",
          "name": "stdout",
          "text": [
            "<class 'pandas.core.frame.DataFrame'>\n",
            "RangeIndex: 249 entries, 0 to 248\n",
            "Data columns (total 13 columns):\n",
            " #   Column                   Non-Null Count  Dtype  \n",
            "---  ------                   --------------  -----  \n",
            " 0   age                      249 non-null    int64  \n",
            " 1   gender                   249 non-null    int64  \n",
            " 2   factor_1                 249 non-null    int64  \n",
            " 3   factor_2                 249 non-null    int64  \n",
            " 4   factor_3                 249 non-null    int64  \n",
            " 5   factor_4                 249 non-null    int64  \n",
            " 6   factor_5                 249 non-null    int64  \n",
            " 7   cgpa                     249 non-null    float64\n",
            " 8   personality_Dependable   249 non-null    uint8  \n",
            " 9   personality_Extraverted  249 non-null    uint8  \n",
            " 10  personality_Lively       249 non-null    uint8  \n",
            " 11  personality_Responsible  249 non-null    uint8  \n",
            " 12  personality_Serious      249 non-null    uint8  \n",
            "dtypes: float64(1), int64(7), uint8(5)\n",
            "memory usage: 16.9 KB\n"
          ]
        }
      ]
    },
    {
      "cell_type": "markdown",
      "source": [
        "**Hypothetical Testing**"
      ],
      "metadata": {
        "id": "JbPvuUlwLkKn"
      }
    },
    {
      "cell_type": "code",
      "source": [
        "#HYPOTHESIS TESTING\n",
        "import statsmodels.api as sm\n",
        "from statsmodels.formula.api import ols\n",
        "mod = ols('age ~ cgpa', data = df).fit()\n",
        "aov_table = sm.stats.anova_lm(mod)\n",
        "print(aov_table)\n",
        "\n",
        "import statsmodels.api as sm\n",
        "from statsmodels.formula.api import ols\n",
        "mod = ols('gender ~ cgpa', data = df).fit()\n",
        "aov_table = sm.stats.anova_lm(mod)\n",
        "print(aov_table)\n",
        "\n",
        "import statsmodels.api as sm\n",
        "from statsmodels.formula.api import ols\n",
        "mod = ols('factor_1 ~ cgpa', data = df).fit()\n",
        "aov_table = sm.stats.anova_lm(mod)\n",
        "print(aov_table)\n",
        "\n",
        "import statsmodels.api as sm\n",
        "from statsmodels.formula.api import ols\n",
        "mod = ols('factor_2 ~ cgpa', data = df).fit()\n",
        "aov_table = sm.stats.anova_lm(mod)\n",
        "print(aov_table)\n",
        "\n",
        "import statsmodels.api as sm\n",
        "from statsmodels.formula.api import ols\n",
        "mod = ols('factor_3 ~ cgpa', data = df).fit()\n",
        "aov_table = sm.stats.anova_lm(mod)\n",
        "print(aov_table)\n",
        "\n",
        "import statsmodels.api as sm\n",
        "from statsmodels.formula.api import ols\n",
        "mod = ols('factor_4 ~ cgpa', data = df).fit()\n",
        "aov_table = sm.stats.anova_lm(mod)\n",
        "print(aov_table)\n",
        "\n",
        "import statsmodels.api as sm\n",
        "from statsmodels.formula.api import ols\n",
        "mod = ols('factor_5 ~ cgpa', data = df).fit()\n",
        "aov_table = sm.stats.anova_lm(mod)\n",
        "print(aov_table)"
      ],
      "metadata": {
        "colab": {
          "base_uri": "https://localhost:8080/"
        },
        "id": "7NLgWjf5IyQq",
        "outputId": "4ac65667-4b74-42d5-e14e-bd2aa9adc1a9"
      },
      "execution_count": null,
      "outputs": [
        {
          "output_type": "stream",
          "name": "stdout",
          "text": [
            "             df      sum_sq   mean_sq         F    PR(>F)\n",
            "cgpa        1.0    1.540840  1.540840  0.572902  0.449829\n",
            "Residual  247.0  664.314582  2.689533       NaN       NaN\n",
            "             df     sum_sq   mean_sq         F    PR(>F)\n",
            "cgpa        1.0   0.958648  0.958648  3.863351  0.050472\n",
            "Residual  247.0  61.290348  0.248139       NaN       NaN\n",
            "             df      sum_sq    mean_sq          F        PR(>F)\n",
            "cgpa        1.0   64.527746  64.527746  53.168705  4.137077e-12\n",
            "Residual  247.0  299.769443   1.213641        NaN           NaN\n",
            "             df      sum_sq    mean_sq          F        PR(>F)\n",
            "cgpa        1.0   70.123474  70.123474  55.793604  1.385103e-12\n",
            "Residual  247.0  310.438775   1.256837        NaN           NaN\n",
            "             df      sum_sq   mean_sq         F    PR(>F)\n",
            "cgpa        1.0    1.804705  1.804705  1.720779  0.190811\n",
            "Residual  247.0  259.046701  1.048772       NaN       NaN\n",
            "             df      sum_sq   mean_sq         F    PR(>F)\n",
            "cgpa        1.0    1.496963  1.496963  1.678804  0.196293\n",
            "Residual  247.0  220.246009  0.891684       NaN       NaN\n",
            "             df      sum_sq    mean_sq          F        PR(>F)\n",
            "cgpa        1.0   93.306306  93.306306  75.708626  4.725371e-16\n",
            "Residual  247.0  304.412570   1.232440        NaN           NaN\n"
          ]
        }
      ]
    },
    {
      "cell_type": "markdown",
      "source": [
        "**Feature Selection**"
      ],
      "metadata": {
        "id": "y8Kg_ocyK-TB"
      }
    },
    {
      "cell_type": "code",
      "source": [
        "from sklearn.feature_selection import RFECV\n",
        "from sklearn.linear_model import LinearRegression\n",
        "\n",
        "# create linear regression object\n",
        "lr = LinearRegression()\n",
        "\n",
        "# create RFE object with cross-validation\n",
        "rfe = RFECV(estimator=lr, cv=5, scoring='r2')\n",
        "\n",
        "# fit RFE to data\n",
        "X = df[['age','gender','factor_1', 'factor_2', 'factor_3', 'factor_4', 'factor_5']]\n",
        "y = df['cgpa']\n",
        "rfe.fit(X, y)\n",
        "\n",
        "# print selected features\n",
        "print(\"Selected Features:\")\n",
        "for i in range(len(X.columns)):\n",
        "    if rfe.support_[i]:\n",
        "        print(X.columns[i])\n"
      ],
      "metadata": {
        "colab": {
          "base_uri": "https://localhost:8080/"
        },
        "id": "oeq1P1nVL1bW",
        "outputId": "43d86c53-1500-4f54-c490-1cfc6ab11dcb"
      },
      "execution_count": null,
      "outputs": [
        {
          "output_type": "stream",
          "name": "stdout",
          "text": [
            "Selected Features:\n",
            "gender\n",
            "factor_1\n",
            "factor_2\n",
            "factor_5\n"
          ]
        }
      ]
    },
    {
      "cell_type": "markdown",
      "source": [
        "**Correlation**"
      ],
      "metadata": {
        "id": "f93QVTZDLfev"
      }
    },
    {
      "cell_type": "code",
      "source": [
        "import pandas as pd\n",
        "correlation_matrix = df[['age','gender','factor_1', 'factor_2', 'factor_3', 'factor_4', 'factor_5','cgpa']].corr()\n",
        "print(correlation_matrix)"
      ],
      "metadata": {
        "colab": {
          "base_uri": "https://localhost:8080/"
        },
        "id": "PahVxAU7DkLf",
        "outputId": "9cc60f64-4ecf-43ba-c905-e324e704c168"
      },
      "execution_count": null,
      "outputs": [
        {
          "output_type": "stream",
          "name": "stdout",
          "text": [
            "               age    gender  factor_1  factor_2  factor_3  factor_4  \\\n",
            "age       1.000000 -0.019707  0.138214  0.140063  0.064005  0.124417   \n",
            "gender   -0.019707  1.000000 -0.118384 -0.176231 -0.091114 -0.133484   \n",
            "factor_1  0.138214 -0.118384  1.000000  0.629567  0.139477  0.187988   \n",
            "factor_2  0.140063 -0.176231  0.629567  1.000000  0.048577  0.162968   \n",
            "factor_3  0.064005 -0.091114  0.139477  0.048577  1.000000  0.332218   \n",
            "factor_4  0.124417 -0.133484  0.187988  0.162968  0.332218  1.000000   \n",
            "factor_5 -0.021914  0.021568 -0.406406 -0.401487 -0.051869 -0.007979   \n",
            "cgpa      0.048105 -0.124098  0.420867  0.429258  0.083178  0.082164   \n",
            "\n",
            "          factor_5      cgpa  \n",
            "age      -0.021914  0.048105  \n",
            "gender    0.021568 -0.124098  \n",
            "factor_1 -0.406406  0.420867  \n",
            "factor_2 -0.401487  0.429258  \n",
            "factor_3 -0.051869  0.083178  \n",
            "factor_4 -0.007979  0.082164  \n",
            "factor_5  1.000000 -0.484359  \n",
            "cgpa     -0.484359  1.000000  \n"
          ]
        }
      ]
    },
    {
      "cell_type": "code",
      "source": [
        "import seaborn as sns\n",
        "import matplotlib.pyplot as plt\n",
        "\n",
        "sns.heatmap(correlation_matrix, annot=True, fmt='.2f', cmap='coolwarm')\n",
        "plt.title('Correlation Heatmap')\n",
        "plt.show()"
      ],
      "metadata": {
        "colab": {
          "base_uri": "https://localhost:8080/",
          "height": 495
        },
        "id": "VB2RCs6PDppz",
        "outputId": "dad7e947-8954-46e1-e322-76d29c30562f"
      },
      "execution_count": null,
      "outputs": [
        {
          "output_type": "display_data",
          "data": {
            "text/plain": [
              "<Figure size 640x480 with 2 Axes>"
            ],
            "image/png": "[encoded data removed]"
          },
          "metadata": {}
        }
      ]
    },
    {
      "cell_type": "markdown",
      "source": [
        "**VIF**"
      ],
      "metadata": {
        "id": "Nsfxx5nbVLNH"
      }
    },
    {
      "cell_type": "code",
      "source": [
        "import pandas as pd\n",
        "import statsmodels.api as sm\n",
        "from statsmodels.stats.outliers_influence import variance_inflation_factor\n",
        "\n",
        "# define the predictors and the response variable\n",
        "X = df.drop('cgpa', axis=1)\n",
        "y = df['cgpa']\n",
        "\n",
        "# add a constant term to the predictors to fit the intercept of the linear regression\n",
        "X = sm.add_constant(X)\n",
        "\n",
        "# calculate the VIF for each predictor\n",
        "vif = pd.DataFrame()\n",
        "vif[\"VIF Factor\"] = [variance_inflation_factor(X.values, i) for i in range(X.shape[1])]\n",
        "vif[\"Predictor\"] = X.columns\n",
        "\n",
        "# print the VIF values\n",
        "print(vif)\n"
      ],
      "metadata": {
        "colab": {
          "base_uri": "https://localhost:8080/"
        },
        "id": "chErniEYUrMd",
        "outputId": "2fcc5318-69ad-454d-9427-cc72c8bc95ec"
      },
      "execution_count": null,
      "outputs": [
        {
          "output_type": "stream",
          "name": "stdout",
          "text": [
            "    VIF Factor                Predictor\n",
            "0     0.000000                    const\n",
            "1     1.049436                      age\n",
            "2     1.110789                   gender\n",
            "3     1.802724                 factor_1\n",
            "4     1.824517                 factor_2\n",
            "5     1.230699                 factor_3\n",
            "6     1.226458                 factor_4\n",
            "7     1.292193                 factor_5\n",
            "8          inf   personality_Dependable\n",
            "9          inf  personality_Extraverted\n",
            "10         inf       personality_Lively\n",
            "11         inf  personality_Responsible\n",
            "12         inf      personality_Serious\n"
          ]
        },
        {
          "output_type": "stream",
          "name": "stderr",
          "text": [
            "/usr/local/lib/python3.10/dist-packages/statsmodels/regression/linear_model.py:1752: RuntimeWarning: divide by zero encountered in double_scalars\n",
            "  return 1 - self.ssr/self.centered_tss\n",
            "/usr/local/lib/python3.10/dist-packages/statsmodels/stats/outliers_influence.py:195: RuntimeWarning: divide by zero encountered in double_scalars\n",
            "  vif = 1. / (1. - r_squared_i)\n"
          ]
        }
      ]
    },
    {
      "cell_type": "markdown",
      "source": [
        "**Regression**"
      ],
      "metadata": {
        "id": "22QsFfLXMBbR"
      }
    },
    {
      "cell_type": "code",
      "source": [
        "import statsmodels.api as sm\n",
        "\n",
        "# Build a linear regression model with CGPA as the dependent variable and the five factors as the independent variables\n",
        "X = df[['factor_1', 'factor_2', 'factor_5']]\n",
        "y = df['cgpa']\n",
        "X = sm.add_constant(X)  # Add a constant term to the model\n",
        "model = sm.OLS(y, X).fit()\n",
        "\n",
        "# Print the summary of the regression model\n",
        "print(model.summary())\n"
      ],
      "metadata": {
        "colab": {
          "base_uri": "https://localhost:8080/"
        },
        "id": "GICV4eO-MEsW",
        "outputId": "371b67b6-1dd8-4b25-ab2e-ff4742dee0d4"
      },
      "execution_count": null,
      "outputs": [
        {
          "output_type": "stream",
          "name": "stdout",
          "text": [
            "                            OLS Regression Results                            \n",
            "==============================================================================\n",
            "Dep. Variable:                   cgpa   R-squared:                       0.316\n",
            "Model:                            OLS   Adj. R-squared:                  0.307\n",
            "Method:                 Least Squares   F-statistic:                     37.64\n",
            "Date:                Sun, 30 Apr 2023   Prob (F-statistic):           4.83e-20\n",
            "Time:                        16:53:12   Log-Likelihood:                -300.20\n",
            "No. Observations:                 249   AIC:                             608.4\n",
            "Df Residuals:                     245   BIC:                             622.5\n",
            "Df Model:                           3                                         \n",
            "Covariance Type:            nonrobust                                         \n",
            "==============================================================================\n",
            "                 coef    std err          t      P>|t|      [0.025      0.975]\n",
            "------------------------------------------------------------------------------\n",
            "const          7.9776      0.285     28.003      0.000       7.416       8.539\n",
            "factor_1       0.1311      0.056      2.331      0.021       0.020       0.242\n",
            "factor_2       0.1498      0.055      2.728      0.007       0.042       0.258\n",
            "factor_5      -0.2644      0.046     -5.790      0.000      -0.354      -0.174\n",
            "==============================================================================\n",
            "Omnibus:                        0.719   Durbin-Watson:                   1.853\n",
            "Prob(Omnibus):                  0.698   Jarque-Bera (JB):                0.653\n",
            "Skew:                          -0.125   Prob(JB):                        0.721\n",
            "Kurtosis:                       2.990   Cond. No.                         33.9\n",
            "==============================================================================\n",
            "\n",
            "Notes:\n",
            "[1] Standard Errors assume that the covariance matrix of the errors is correctly specified.\n"
          ]
        }
      ]
    },
    {
      "cell_type": "markdown",
      "source": [
        "**Residuals**"
      ],
      "metadata": {
        "id": "HOB6H4v3VsJ-"
      }
    },
    {
      "cell_type": "code",
      "source": [
        "import matplotlib.pyplot as plt\n",
        "\n",
        "# Fit the linear regression model and predict the response\n",
        "X = df[['age', 'gender', 'factor_1', 'factor_2', 'factor_3', 'factor_4', 'factor_5']]\n",
        "y = df['cgpa']\n",
        "model = sm.OLS(y, sm.add_constant(X)).fit()\n",
        "pred = model.predict()\n",
        "\n",
        "# Plot the residuals against the predicted values\n",
        "residuals = y - pred\n",
        "plt.scatter(pred, residuals)\n",
        "plt.xlabel('Predicted values')\n",
        "plt.ylabel('Residuals')\n",
        "plt.title('Residual plot')\n",
        "plt.show()\n"
      ],
      "metadata": {
        "colab": {
          "base_uri": "https://localhost:8080/",
          "height": 472
        },
        "id": "428h37ecVuu7",
        "outputId": "153637e0-0e42-467b-a66d-d6ac078a53d8"
      },
      "execution_count": null,
      "outputs": [
        {
          "output_type": "display_data",
          "data": {
            "text/plain": [
              "<Figure size 640x480 with 1 Axes>"
            ],
            "image/png": "[encoded data removed]"
          },
          "metadata": {}
        }
      ]
    },
    {
      "cell_type": "code",
      "source": [
        "# Identify outlier index\n",
        "outlier_idx = np.argmax(np.abs(residuals))\n",
        "\n",
        "# Remove outlier row from X and y dataframes\n",
        "X_clean = X.drop(outlier_idx, axis=0)\n",
        "y_clean = y.drop(outlier_idx)\n",
        "\n",
        "# Fit the linear regression model with cleaned data and predict the response\n",
        "model_clean = sm.OLS(y_clean, sm.add_constant(X_clean)).fit()\n",
        "pred_clean = model_clean.predict(sm.add_constant(X_clean))\n",
        "\n",
        "# Plot the residuals against the predicted values for cleaned data\n",
        "residuals_clean = y_clean - pred_clean\n",
        "plt.scatter(pred_clean, residuals_clean)\n",
        "plt.xlabel('Predicted values')\n",
        "plt.ylabel('Residuals')\n",
        "plt.title('Residual plot (cleaned data)')\n",
        "plt.show()\n"
      ],
      "metadata": {
        "colab": {
          "base_uri": "https://localhost:8080/",
          "height": 472
        },
        "id": "36CnoU2QZCJ6",
        "outputId": "8c2dee0a-2a31-4fec-83d5-5b3d257c8468"
      },
      "execution_count": null,
      "outputs": [
        {
          "output_type": "display_data",
          "data": {
            "text/plain": [
              "<Figure size 640x480 with 1 Axes>"
            ],
            "image/png": "[encoded data removed]"
          },
          "metadata": {}
        }
      ]
    },
    {
      "cell_type": "code",
      "source": [
        "\n",
        "\n",
        "# Regression with cleaned data\n",
        "model = sm.OLS(y_clean, X_clean).fit()\n",
        "\n",
        "# Print the summary of the regression model\n",
        "print(model.summary())\n"
      ],
      "metadata": {
        "colab": {
          "base_uri": "https://localhost:8080/"
        },
        "id": "h5SclqZjKyVs",
        "outputId": "ab55015e-e5fd-49ff-ce81-bbd685d7f694"
      },
      "execution_count": null,
      "outputs": [
        {
          "output_type": "stream",
          "name": "stdout",
          "text": [
            "                                 OLS Regression Results                                \n",
            "=======================================================================================\n",
            "Dep. Variable:                   cgpa   R-squared (uncentered):                   0.985\n",
            "Model:                            OLS   Adj. R-squared (uncentered):              0.984\n",
            "Method:                 Least Squares   F-statistic:                              2245.\n",
            "Date:                Sun, 30 Apr 2023   Prob (F-statistic):                   1.84e-215\n",
            "Time:                        16:53:13   Log-Likelihood:                         -352.70\n",
            "No. Observations:                 248   AIC:                                      719.4\n",
            "Df Residuals:                     241   BIC:                                      744.0\n",
            "Df Model:                           7                                                  \n",
            "Covariance Type:            nonrobust                                                  \n",
            "==============================================================================\n",
            "                 coef    std err          t      P>|t|      [0.025      0.975]\n",
            "------------------------------------------------------------------------------\n",
            "age            0.3224      0.022     14.984      0.000       0.280       0.365\n",
            "gender         0.0514      0.131      0.393      0.694      -0.206       0.309\n",
            "factor_1       0.2183      0.071      3.074      0.002       0.078       0.358\n",
            "factor_2       0.2292      0.070      3.285      0.001       0.092       0.367\n",
            "factor_3       0.1274      0.067      1.914      0.057      -0.004       0.259\n",
            "factor_4       0.0511      0.074      0.688      0.492      -0.095       0.197\n",
            "factor_5      -0.0700      0.055     -1.264      0.207      -0.179       0.039\n",
            "==============================================================================\n",
            "Omnibus:                       62.139   Durbin-Watson:                   1.643\n",
            "Prob(Omnibus):                  0.000   Jarque-Bera (JB):              206.738\n",
            "Skew:                          -1.028   Prob(JB):                     1.28e-45\n",
            "Kurtosis:                       6.972   Cond. No.                         41.8\n",
            "==============================================================================\n",
            "\n",
            "Notes:\n",
            "[1] R² is computed without centering (uncentered) since the model does not contain a constant.\n",
            "[2] Standard Errors assume that the covariance matrix of the errors is correctly specified.\n"
          ]
        }
      ]
    },
    {
      "cell_type": "code",
      "source": [
        "model = sm.OLS(y_clean, X_clean[['factor_1','factor_2','factor_5']]).fit()\n",
        "\n",
        "# Print the summary of the regression model\n",
        "print(model.summary())\n"
      ],
      "metadata": {
        "colab": {
          "base_uri": "https://localhost:8080/"
        },
        "id": "wp52xfvfsNek",
        "outputId": "faaade28-c69a-42bc-cf3d-70735b7f2a1e"
      },
      "execution_count": null,
      "outputs": [
        {
          "output_type": "stream",
          "name": "stdout",
          "text": [
            "                                 OLS Regression Results                                \n",
            "=======================================================================================\n",
            "Dep. Variable:                   cgpa   R-squared (uncentered):                   0.961\n",
            "Model:                            OLS   Adj. R-squared (uncentered):              0.961\n",
            "Method:                 Least Squares   F-statistic:                              2029.\n",
            "Date:                Sun, 30 Apr 2023   Prob (F-statistic):                   1.22e-172\n",
            "Time:                        16:53:13   Log-Likelihood:                         -469.36\n",
            "No. Observations:                 248   AIC:                                      944.7\n",
            "Df Residuals:                     245   BIC:                                      955.3\n",
            "Df Model:                           3                                                  \n",
            "Covariance Type:            nonrobust                                                  \n",
            "==============================================================================\n",
            "                 coef    std err          t      P>|t|      [0.025      0.975]\n",
            "------------------------------------------------------------------------------\n",
            "factor_1       0.8818      0.098      9.026      0.000       0.689       1.074\n",
            "factor_2       0.6728      0.103      6.539      0.000       0.470       0.876\n",
            "factor_5       0.7661      0.054     14.062      0.000       0.659       0.873\n",
            "==============================================================================\n",
            "Omnibus:                        0.097   Durbin-Watson:                   1.736\n",
            "Prob(Omnibus):                  0.953   Jarque-Bera (JB):                0.026\n",
            "Skew:                          -0.024   Prob(JB):                        0.987\n",
            "Kurtosis:                       3.015   Cond. No.                         7.97\n",
            "==============================================================================\n",
            "\n",
            "Notes:\n",
            "[1] R² is computed without centering (uncentered) since the model does not contain a constant.\n",
            "[2] Standard Errors assume that the covariance matrix of the errors is correctly specified.\n"
          ]
        }
      ]
    },
    {
      "cell_type": "code",
      "source": [
        "import pandas as pd\n",
        "import statsmodels.api as sm\n",
        "from statsmodels.stats.outliers_influence import variance_inflation_factor\n",
        "\n",
        "# define the predictors and the response variable\n",
        "X = X_clean\n",
        "y = y_clean\n",
        "\n",
        "# add a constant term to the predictors to fit the intercept of the linear regression\n",
        "X = sm.add_constant(X)\n",
        "\n",
        "# calculate the VIF for each predictor\n",
        "vif = pd.DataFrame()\n",
        "vif[\"VIF Factor\"] = [variance_inflation_factor(X.values, i) for i in range(X.shape[1])]\n",
        "vif[\"Predictor\"] = X.columns\n",
        "\n",
        "# print the VIF values\n",
        "print(vif)\n"
      ],
      "metadata": {
        "colab": {
          "base_uri": "https://localhost:8080/"
        },
        "id": "mb3j8dgDqdWG",
        "outputId": "7bfdc4ca-08ea-4ce4-ec79-14dbb0be61b9"
      },
      "execution_count": null,
      "outputs": [
        {
          "output_type": "stream",
          "name": "stdout",
          "text": [
            "   VIF Factor Predictor\n",
            "0  162.318504     const\n",
            "1    1.037427       age\n",
            "2    1.048203    gender\n",
            "3    1.787989  factor_1\n",
            "4    1.792783  factor_2\n",
            "5    1.143173  factor_3\n",
            "6    1.187287  factor_4\n",
            "7    1.286367  factor_5\n"
          ]
        }
      ]
    },
    {
      "cell_type": "markdown",
      "source": [
        "Linear Regression"
      ],
      "metadata": {
        "id": "5co82KNs9Gib"
      }
    },
    {
      "cell_type": "code",
      "source": [
        "import numpy as np\n",
        "from sklearn.model_selection import train_test_split\n",
        "from sklearn.metrics import mean_squared_error\n",
        "\n",
        "# Make sure X and y have the same number of rows\n",
        "assert X_clean.shape[0] == y_clean.shape[0]\n",
        "\n",
        "# Split the data into training and test sets\n",
        "X_train, X_test, y_train, y_test = train_test_split(X_clean, y_clean, test_size=0.2, random_state=42)\n",
        "\n",
        "# Fit a linear regression model on the training data\n",
        "model = LinearRegression()\n",
        "model.fit(X_train, y_train)\n",
        "\n",
        "# Predict the target variable for the test set\n",
        "y_pred = model.predict(X_test)\n",
        "\n",
        "# Assuming y_true and y_pred are the true and predicted values, respectively\n",
        "linear_mse = mean_squared_error(y_test, y_pred)\n",
        "print(\"Mean Squared Error (MSE):\", linear_mse)\n"
      ],
      "metadata": {
        "colab": {
          "base_uri": "https://localhost:8080/"
        },
        "id": "3k7BuzEm9Bd3",
        "outputId": "e6788a9e-5d3a-4fa9-e16a-9115acd59585"
      },
      "execution_count": null,
      "outputs": [
        {
          "output_type": "stream",
          "name": "stdout",
          "text": [
            "Mean Squared Error (MSE): 0.8476580497084814\n"
          ]
        }
      ]
    },
    {
      "cell_type": "code",
      "source": [
        "import matplotlib.pyplot as plt\n",
        "\n",
        "# Plot the residuals\n",
        "residuals = y_test - y_pred\n",
        "plt.scatter(y_test, residuals)\n",
        "plt.xlabel('True Values')\n",
        "plt.ylabel('Residuals')\n",
        "plt.show()\n"
      ],
      "metadata": {
        "colab": {
          "base_uri": "https://localhost:8080/",
          "height": 449
        },
        "id": "zQhg3884Mn7Q",
        "outputId": "5b590c7f-55ce-475e-a0d6-f9a29b9650b2"
      },
      "execution_count": null,
      "outputs": [
        {
          "output_type": "display_data",
          "data": {
            "text/plain": [
              "<Figure size 640x480 with 1 Axes>"
            ],
            "image/png": "[encoded data removed]"
          },
          "metadata": {}
        }
      ]
    },
    {
      "cell_type": "markdown",
      "source": [
        "Lasso and Ridge Regression"
      ],
      "metadata": {
        "id": "j2mvbiKh9r4r"
      }
    },
    {
      "cell_type": "code",
      "source": [
        "# Import the necessary libraries\n",
        "from sklearn.linear_model import Ridge, Lasso\n",
        "from sklearn.model_selection import train_test_split\n",
        "from sklearn.metrics import mean_squared_error\n",
        "\n",
        "X = X_clean[['factor_1','factor_2','factor_5']]\n",
        "y = y_clean\n",
        "\n",
        "# Split the data into training and test sets\n",
        "X_train, X_test, y_train, y_test = train_test_split(X, y, test_size=0.2, random_state=42)\n",
        "\n",
        "# Initialize the Ridge and Lasso regression models\n",
        "ridge = Ridge(alpha=0.5)\n",
        "lasso = Lasso(alpha=0.5)\n",
        "\n",
        "# Train the models on the training data\n",
        "ridge.fit(X_train, y_train)\n",
        "lasso.fit(X_train, y_train)\n",
        "\n",
        "# Make predictions on the test data\n",
        "y_pred_ridge = ridge.predict(X_test)\n",
        "y_pred_lasso = lasso.predict(X_test)\n",
        "\n",
        "# Calculate the mean squared error of the predictions\n",
        "ridge_mse = mean_squared_error(y_test, y_pred_ridge)\n",
        "lasso_mse = mean_squared_error(y_test, y_pred_lasso)\n",
        "\n",
        "print(\"Ridge MSE:\", ridge_mse)\n",
        "print(\"Lasso MSE:\", lasso_mse)\n"
      ],
      "metadata": {
        "colab": {
          "base_uri": "https://localhost:8080/"
        },
        "id": "PnaDi7uvOKh8",
        "outputId": "df415f10-a9aa-48f1-bc10-2812fd3d9fca"
      },
      "execution_count": null,
      "outputs": [
        {
          "output_type": "stream",
          "name": "stdout",
          "text": [
            "Ridge MSE: 0.8181638358032178\n",
            "Lasso MSE: 1.1389878836201321\n"
          ]
        }
      ]
    },
    {
      "cell_type": "markdown",
      "source": [
        "Random Forest Regression"
      ],
      "metadata": {
        "id": "SBDdwtcF-ELt"
      }
    },
    {
      "cell_type": "code",
      "source": [
        "from sklearn.ensemble import RandomForestRegressor\n",
        "from sklearn.metrics import mean_squared_error\n",
        "\n",
        "# Split the data into training and test sets\n",
        "X = X_clean[['factor_1','factor_2','factor_5']]\n",
        "y = y_clean\n",
        "\n",
        "X_train, X_test, y_train, y_test = train_test_split(X, y, test_size=0.2, random_state=42)\n",
        "\n",
        "# Create a Random Forest Regression model\n",
        "rf_model = RandomForestRegressor(n_estimators=100, random_state=42)\n",
        "\n",
        "# Fit the model on the training data\n",
        "rf_model.fit(X_train, y_train)\n",
        "\n",
        "# Make predictions on the test data\n",
        "y_pred = rf_model.predict(X_test)\n",
        "\n",
        "# Calculate the mean squared error of the model\n",
        "rf_mse = mean_squared_error(y_test, y_pred)\n",
        "print(\"Random Forest MSE:\", rf_mse)\n"
      ],
      "metadata": {
        "colab": {
          "base_uri": "https://localhost:8080/"
        },
        "id": "ZMkvGebaO3xY",
        "outputId": "a124f14c-d91c-41d1-8e88-af40a6b25cf3"
      },
      "execution_count": null,
      "outputs": [
        {
          "output_type": "stream",
          "name": "stdout",
          "text": [
            "Random Forest MSE: 0.8724527294311478\n"
          ]
        }
      ]
    },
    {
      "cell_type": "markdown",
      "source": [
        "Decision Tree Regression"
      ],
      "metadata": {
        "id": "5EgObk3Y-95i"
      }
    },
    {
      "cell_type": "code",
      "source": [
        "from sklearn.tree import DecisionTreeRegressor\n",
        "from sklearn.metrics import mean_squared_error\n",
        "\n",
        "# Splitting the data into features (X) and target (y)\n",
        "X = X_clean[['factor_1','factor_2','factor_5']]\n",
        "y = y_clean\n",
        "\n",
        "# Creating a decision tree regressor with default parameters\n",
        "dt = DecisionTreeRegressor()\n",
        "\n",
        "# Fitting the model to the training data\n",
        "dt.fit(X_train, y_train)\n",
        "\n",
        "# Predicting on the test data\n",
        "y_pred = dt.predict(X_test)\n",
        "\n",
        "# Calculating the mean squared error\n",
        "dt_mse = mean_squared_error(y_test, y_pred)\n",
        "\n",
        "print(\"Decision Tree MSE:\", dt_mse)\n"
      ],
      "metadata": {
        "colab": {
          "base_uri": "https://localhost:8080/"
        },
        "id": "YAgE1jQ0PMLa",
        "outputId": "a81fc233-4e50-4969-ee78-167fa1a44b21"
      },
      "execution_count": null,
      "outputs": [
        {
          "output_type": "stream",
          "name": "stdout",
          "text": [
            "Decision Tree MSE: 1.0576621443969747\n"
          ]
        }
      ]
    },
    {
      "cell_type": "markdown",
      "source": [
        "Support Vector Regression"
      ],
      "metadata": {
        "id": "E3_TKfX7_BAE"
      }
    },
    {
      "cell_type": "code",
      "source": [
        "from sklearn.svm import SVR\n",
        "from sklearn.metrics import mean_squared_error\n",
        "from sklearn.preprocessing import StandardScaler\n",
        "\n",
        "# Splitting the data into features (X) and target (y)\n",
        "X = X_clean[['factor_1','factor_2','factor_5']]\n",
        "y = y_clean\n",
        "\n",
        "# Standardizing the data\n",
        "scaler = StandardScaler()\n",
        "X_scaled = scaler.fit_transform(X)\n",
        "\n",
        "# Creating an SVR model with default parameters\n",
        "svr = SVR()\n",
        "\n",
        "# Fitting the model to the training data\n",
        "svr.fit(X_train, y_train)\n",
        "\n",
        "# Predicting on the test data\n",
        "y_pred = svr.predict(X_test)\n",
        "\n",
        "# Calculating the mean squared error\n",
        "svr_mse = mean_squared_error(y_test, y_pred)\n",
        "\n",
        "print(\"SVR MSE:\", svr_mse)\n"
      ],
      "metadata": {
        "colab": {
          "base_uri": "https://localhost:8080/"
        },
        "id": "QWl2EbUePdg-",
        "outputId": "2854344c-888a-48d3-af3c-9280b4f280db"
      },
      "execution_count": null,
      "outputs": [
        {
          "output_type": "stream",
          "name": "stdout",
          "text": [
            "SVR MSE: 0.6957606469747354\n"
          ]
        }
      ]
    },
    {
      "cell_type": "markdown",
      "source": [
        "ElasticNet regression "
      ],
      "metadata": {
        "id": "EDx9787u_PMk"
      }
    },
    {
      "cell_type": "code",
      "source": [
        "from sklearn.linear_model import ElasticNet\n",
        "from sklearn.metrics import mean_squared_error\n",
        "\n",
        "# Create ElasticNet model\n",
        "model = ElasticNet(alpha=0.1, l1_ratio=0.5)\n",
        "\n",
        "# Fit model on training data\n",
        "model.fit(X_train, y_train)\n",
        "\n",
        "# Make predictions on test data\n",
        "y_pred = model.predict(X_test)\n",
        "\n",
        "# Calculate MSE\n",
        "elastic_mse = mean_squared_error(y_test, y_pred)\n",
        "print(\"ElasticNet MSE:\", elastic_mse)\n"
      ],
      "metadata": {
        "colab": {
          "base_uri": "https://localhost:8080/"
        },
        "id": "r7jkXRXTQPEg",
        "outputId": "c1e3c263-4f21-4aa3-9807-264b3410647d"
      },
      "execution_count": null,
      "outputs": [
        {
          "output_type": "stream",
          "name": "stdout",
          "text": [
            "ElasticNet MSE: 0.8330723433040644\n"
          ]
        }
      ]
    },
    {
      "cell_type": "markdown",
      "source": [
        "Gradient Boosting Regression"
      ],
      "metadata": {
        "id": "OyapI_Gw_VaG"
      }
    },
    {
      "cell_type": "code",
      "source": [
        "from sklearn.ensemble import GradientBoostingRegressor\n",
        "from sklearn.model_selection import train_test_split\n",
        "from sklearn.metrics import mean_squared_error\n",
        "\n",
        "# Splitting the data into features (X) and target (y)\n",
        "X = X_clean[['factor_1','factor_2','factor_5']]\n",
        "y = y_clean\n",
        "\n",
        "# split the data into training and testing sets\n",
        "X_train, X_test, y_train, y_test = train_test_split(X, y, test_size=0.2, random_state=42)\n",
        "\n",
        "# train the model\n",
        "model = GradientBoostingRegressor()\n",
        "model.fit(X_train, y_train)\n",
        "\n",
        "# evaluate the model\n",
        "y_pred = model.predict(X_test)\n",
        "gb_mse = mean_squared_error(y_test, y_pred)\n",
        "print(\"MSE:\", gb_mse)\n"
      ],
      "metadata": {
        "colab": {
          "base_uri": "https://localhost:8080/"
        },
        "id": "Xeqms7szR_wh",
        "outputId": "f4ffb019-6a4c-490d-9a40-a729f90273c8"
      },
      "execution_count": null,
      "outputs": [
        {
          "output_type": "stream",
          "name": "stdout",
          "text": [
            "MSE: 0.7520677620371213\n"
          ]
        }
      ]
    },
    {
      "cell_type": "markdown",
      "source": [
        "Neural Network Regression"
      ],
      "metadata": {
        "id": "JUl5fztJ_qSX"
      }
    },
    {
      "cell_type": "code",
      "source": [
        "import pandas as pd\n",
        "import numpy as np\n",
        "from sklearn.preprocessing import StandardScaler\n",
        "from sklearn.model_selection import train_test_split\n",
        "from keras.models import Sequential\n",
        "from keras.layers import Dense\n",
        "\n",
        "# Splitting the data into features (X) and target (y)\n",
        "X = X_clean[['factor_1','factor_2','factor_5']]\n",
        "y = y_clean\n",
        "\n",
        "scaler = StandardScaler()\n",
        "X = scaler.fit_transform(X)\n",
        "X_train, X_test, y_train, y_test = train_test_split(X, y, test_size=0.2, random_state=42)\n",
        "\n",
        "# Build model\n",
        "model = Sequential()\n",
        "model.add(Dense(64, activation='relu', input_shape=(X_train.shape[1],)))\n",
        "model.add(Dense(32, activation='relu'))\n",
        "model.add(Dense(1))\n",
        "\n",
        "model.compile(optimizer='adam', loss='mean_squared_error')\n",
        "\n",
        "# Train model\n",
        "model.fit(X_train, y_train, epochs=100, batch_size=32, validation_split=0.2)\n",
        "\n",
        "# Evaluate model\n",
        "nn_mse = model.evaluate(X_test, y_test)\n",
        "print(\"Neural Network MSE:\", nn_mse)\n"
      ],
      "metadata": {
        "colab": {
          "base_uri": "https://localhost:8080/"
        },
        "id": "RurhqNAaSDgM",
        "outputId": "c97562cd-28b6-4057-d25b-8a22da175fd6"
      },
      "execution_count": null,
      "outputs": [
        {
          "output_type": "stream",
          "name": "stdout",
          "text": [
            "Epoch 1/100\n",
            "5/5 [==============================] - 1s 96ms/step - loss: 62.5873 - val_loss: 60.1247\n",
            "Epoch 2/100\n",
            "5/5 [==============================] - 0s 20ms/step - loss: 59.4256 - val_loss: 56.6843\n",
            "Epoch 3/100\n",
            "5/5 [==============================] - 0s 22ms/step - loss: 56.0385 - val_loss: 52.8211\n",
            "Epoch 4/100\n",
            "5/5 [==============================] - 0s 22ms/step - loss: 52.2952 - val_loss: 48.6571\n",
            "Epoch 5/100\n",
            "5/5 [==============================] - 0s 19ms/step - loss: 48.2515 - val_loss: 44.2513\n",
            "Epoch 6/100\n",
            "5/5 [==============================] - 0s 22ms/step - loss: 44.0053 - val_loss: 39.5917\n",
            "Epoch 7/100\n",
            "5/5 [==============================] - 0s 19ms/step - loss: 39.4100 - val_loss: 34.7061\n",
            "Epoch 8/100\n",
            "5/5 [==============================] - 0s 18ms/step - loss: 34.7308 - val_loss: 29.6716\n",
            "Epoch 9/100\n",
            "5/5 [==============================] - 0s 20ms/step - loss: 29.8594 - val_loss: 24.6822\n",
            "Epoch 10/100\n",
            "5/5 [==============================] - 0s 21ms/step - loss: 25.0924 - val_loss: 19.9210\n",
            "Epoch 11/100\n",
            "5/5 [==============================] - 0s 22ms/step - loss: 20.5446 - val_loss: 15.5886\n",
            "Epoch 12/100\n",
            "5/5 [==============================] - 0s 20ms/step - loss: 16.4264 - val_loss: 11.8991\n",
            "Epoch 13/100\n",
            "5/5 [==============================] - 0s 34ms/step - loss: 12.8396 - val_loss: 9.0391\n",
            "Epoch 14/100\n",
            "5/5 [==============================] - 0s 28ms/step - loss: 10.1007 - val_loss: 7.0688\n",
            "Epoch 15/100\n",
            "5/5 [==============================] - 0s 19ms/step - loss: 7.9817 - val_loss: 5.9827\n",
            "Epoch 16/100\n",
            "5/5 [==============================] - 0s 22ms/step - loss: 6.6817 - val_loss: 5.5706\n",
            "Epoch 17/100\n",
            "5/5 [==============================] - 0s 28ms/step - loss: 5.9142 - val_loss: 5.5783\n",
            "Epoch 18/100\n",
            "5/5 [==============================] - 0s 20ms/step - loss: 5.5581 - val_loss: 5.7288\n",
            "Epoch 19/100\n",
            "5/5 [==============================] - 0s 24ms/step - loss: 5.3482 - val_loss: 5.8353\n",
            "Epoch 20/100\n",
            "5/5 [==============================] - 0s 42ms/step - loss: 5.2184 - val_loss: 5.8139\n",
            "Epoch 21/100\n",
            "5/5 [==============================] - 0s 19ms/step - loss: 5.0211 - val_loss: 5.6238\n",
            "Epoch 22/100\n",
            "5/5 [==============================] - 0s 29ms/step - loss: 4.8439 - val_loss: 5.3458\n",
            "Epoch 23/100\n",
            "5/5 [==============================] - 0s 28ms/step - loss: 4.6617 - val_loss: 5.0682\n",
            "Epoch 24/100\n",
            "5/5 [==============================] - 0s 46ms/step - loss: 4.4958 - val_loss: 4.8379\n",
            "Epoch 25/100\n",
            "5/5 [==============================] - 0s 19ms/step - loss: 4.3465 - val_loss: 4.6245\n",
            "Epoch 26/100\n",
            "5/5 [==============================] - 0s 24ms/step - loss: 4.2268 - val_loss: 4.4159\n",
            "Epoch 27/100\n",
            "5/5 [==============================] - 0s 35ms/step - loss: 4.0897 - val_loss: 4.2642\n",
            "Epoch 28/100\n",
            "5/5 [==============================] - 0s 17ms/step - loss: 3.9710 - val_loss: 4.1659\n",
            "Epoch 29/100\n",
            "5/5 [==============================] - 0s 19ms/step - loss: 3.8577 - val_loss: 4.0732\n",
            "Epoch 30/100\n",
            "5/5 [==============================] - 0s 27ms/step - loss: 3.7471 - val_loss: 3.9701\n",
            "Epoch 31/100\n",
            "5/5 [==============================] - 0s 21ms/step - loss: 3.6512 - val_loss: 3.8629\n",
            "Epoch 32/100\n",
            "5/5 [==============================] - 0s 52ms/step - loss: 3.5499 - val_loss: 3.7702\n",
            "Epoch 33/100\n",
            "5/5 [==============================] - 0s 22ms/step - loss: 3.4601 - val_loss: 3.6850\n",
            "Epoch 34/100\n",
            "5/5 [==============================] - 0s 27ms/step - loss: 3.3668 - val_loss: 3.5898\n",
            "Epoch 35/100\n",
            "5/5 [==============================] - 0s 21ms/step - loss: 3.2863 - val_loss: 3.5120\n",
            "Epoch 36/100\n",
            "5/5 [==============================] - 0s 23ms/step - loss: 3.2082 - val_loss: 3.4111\n",
            "Epoch 37/100\n",
            "5/5 [==============================] - 0s 28ms/step - loss: 3.1286 - val_loss: 3.3166\n",
            "Epoch 38/100\n",
            "5/5 [==============================] - 0s 18ms/step - loss: 3.0491 - val_loss: 3.2481\n",
            "Epoch 39/100\n",
            "5/5 [==============================] - 0s 16ms/step - loss: 2.9772 - val_loss: 3.1689\n",
            "Epoch 40/100\n",
            "5/5 [==============================] - 0s 38ms/step - loss: 2.9032 - val_loss: 3.0830\n",
            "Epoch 41/100\n",
            "5/5 [==============================] - 0s 31ms/step - loss: 2.8312 - val_loss: 3.0125\n",
            "Epoch 42/100\n",
            "5/5 [==============================] - 0s 54ms/step - loss: 2.7649 - val_loss: 2.9359\n",
            "Epoch 43/100\n",
            "5/5 [==============================] - 0s 27ms/step - loss: 2.7018 - val_loss: 2.8795\n",
            "Epoch 44/100\n",
            "5/5 [==============================] - 0s 24ms/step - loss: 2.6379 - val_loss: 2.8074\n",
            "Epoch 45/100\n",
            "5/5 [==============================] - 0s 30ms/step - loss: 2.5715 - val_loss: 2.7326\n",
            "Epoch 46/100\n",
            "5/5 [==============================] - 0s 57ms/step - loss: 2.5192 - val_loss: 2.6760\n",
            "Epoch 47/100\n",
            "5/5 [==============================] - 0s 31ms/step - loss: 2.4488 - val_loss: 2.5978\n",
            "Epoch 48/100\n",
            "5/5 [==============================] - 0s 27ms/step - loss: 2.3898 - val_loss: 2.5297\n",
            "Epoch 49/100\n",
            "5/5 [==============================] - 0s 33ms/step - loss: 2.3329 - val_loss: 2.4585\n",
            "Epoch 50/100\n",
            "5/5 [==============================] - 0s 28ms/step - loss: 2.2740 - val_loss: 2.4063\n",
            "Epoch 51/100\n",
            "5/5 [==============================] - 0s 21ms/step - loss: 2.2194 - val_loss: 2.3499\n",
            "Epoch 52/100\n",
            "5/5 [==============================] - 0s 47ms/step - loss: 2.1618 - val_loss: 2.3066\n",
            "Epoch 53/100\n",
            "5/5 [==============================] - 0s 42ms/step - loss: 2.1098 - val_loss: 2.2557\n",
            "Epoch 54/100\n",
            "5/5 [==============================] - 0s 27ms/step - loss: 2.0591 - val_loss: 2.2030\n",
            "Epoch 55/100\n",
            "5/5 [==============================] - 0s 35ms/step - loss: 2.0110 - val_loss: 2.1475\n",
            "Epoch 56/100\n",
            "5/5 [==============================] - 0s 30ms/step - loss: 1.9612 - val_loss: 2.1038\n",
            "Epoch 57/100\n",
            "5/5 [==============================] - 0s 19ms/step - loss: 1.9162 - val_loss: 2.0568\n",
            "Epoch 58/100\n",
            "5/5 [==============================] - 0s 20ms/step - loss: 1.8715 - val_loss: 2.0113\n",
            "Epoch 59/100\n",
            "5/5 [==============================] - 0s 24ms/step - loss: 1.8299 - val_loss: 1.9654\n",
            "Epoch 60/100\n",
            "5/5 [==============================] - 0s 29ms/step - loss: 1.7896 - val_loss: 1.9210\n",
            "Epoch 61/100\n",
            "5/5 [==============================] - 0s 20ms/step - loss: 1.7421 - val_loss: 1.8779\n",
            "Epoch 62/100\n",
            "5/5 [==============================] - 0s 21ms/step - loss: 1.7116 - val_loss: 1.8436\n",
            "Epoch 63/100\n",
            "5/5 [==============================] - 0s 24ms/step - loss: 1.6642 - val_loss: 1.7930\n",
            "Epoch 64/100\n",
            "5/5 [==============================] - 0s 35ms/step - loss: 1.6229 - val_loss: 1.7508\n",
            "Epoch 65/100\n",
            "5/5 [==============================] - 0s 17ms/step - loss: 1.5888 - val_loss: 1.7164\n",
            "Epoch 66/100\n",
            "5/5 [==============================] - 0s 59ms/step - loss: 1.5507 - val_loss: 1.6747\n",
            "Epoch 67/100\n",
            "5/5 [==============================] - 0s 23ms/step - loss: 1.5131 - val_loss: 1.6445\n",
            "Epoch 68/100\n",
            "5/5 [==============================] - 0s 42ms/step - loss: 1.4786 - val_loss: 1.6163\n",
            "Epoch 69/100\n",
            "5/5 [==============================] - 0s 67ms/step - loss: 1.4514 - val_loss: 1.5913\n",
            "Epoch 70/100\n",
            "5/5 [==============================] - 0s 40ms/step - loss: 1.4191 - val_loss: 1.5493\n",
            "Epoch 71/100\n",
            "5/5 [==============================] - 0s 40ms/step - loss: 1.3889 - val_loss: 1.5135\n",
            "Epoch 72/100\n",
            "5/5 [==============================] - 0s 23ms/step - loss: 1.3539 - val_loss: 1.4832\n",
            "Epoch 73/100\n",
            "5/5 [==============================] - 0s 32ms/step - loss: 1.3263 - val_loss: 1.4556\n",
            "Epoch 74/100\n",
            "5/5 [==============================] - 0s 45ms/step - loss: 1.2975 - val_loss: 1.4290\n",
            "Epoch 75/100\n",
            "5/5 [==============================] - 0s 42ms/step - loss: 1.2708 - val_loss: 1.3954\n",
            "Epoch 76/100\n",
            "5/5 [==============================] - 0s 49ms/step - loss: 1.2490 - val_loss: 1.3771\n",
            "Epoch 77/100\n",
            "5/5 [==============================] - 0s 41ms/step - loss: 1.2264 - val_loss: 1.3400\n",
            "Epoch 78/100\n",
            "5/5 [==============================] - 0s 42ms/step - loss: 1.2020 - val_loss: 1.3182\n",
            "Epoch 79/100\n",
            "5/5 [==============================] - 0s 55ms/step - loss: 1.1758 - val_loss: 1.2935\n",
            "Epoch 80/100\n",
            "5/5 [==============================] - 0s 49ms/step - loss: 1.1537 - val_loss: 1.2729\n",
            "Epoch 81/100\n",
            "5/5 [==============================] - 0s 41ms/step - loss: 1.1346 - val_loss: 1.2599\n",
            "Epoch 82/100\n",
            "5/5 [==============================] - 0s 43ms/step - loss: 1.1146 - val_loss: 1.2325\n",
            "Epoch 83/100\n",
            "5/5 [==============================] - 0s 74ms/step - loss: 1.0950 - val_loss: 1.2085\n",
            "Epoch 84/100\n",
            "5/5 [==============================] - 0s 24ms/step - loss: 1.0764 - val_loss: 1.1941\n",
            "Epoch 85/100\n",
            "5/5 [==============================] - 0s 26ms/step - loss: 1.0625 - val_loss: 1.1831\n",
            "Epoch 86/100\n",
            "5/5 [==============================] - 0s 21ms/step - loss: 1.0416 - val_loss: 1.1690\n",
            "Epoch 87/100\n",
            "5/5 [==============================] - 0s 36ms/step - loss: 1.0262 - val_loss: 1.1544\n",
            "Epoch 88/100\n",
            "5/5 [==============================] - 0s 22ms/step - loss: 1.0096 - val_loss: 1.1323\n",
            "Epoch 89/100\n",
            "5/5 [==============================] - 0s 34ms/step - loss: 0.9906 - val_loss: 1.1144\n",
            "Epoch 90/100\n",
            "5/5 [==============================] - 0s 24ms/step - loss: 0.9767 - val_loss: 1.1005\n",
            "Epoch 91/100\n",
            "5/5 [==============================] - 0s 30ms/step - loss: 0.9626 - val_loss: 1.0777\n",
            "Epoch 92/100\n",
            "5/5 [==============================] - 0s 32ms/step - loss: 0.9501 - val_loss: 1.0686\n",
            "Epoch 93/100\n",
            "5/5 [==============================] - 0s 22ms/step - loss: 0.9337 - val_loss: 1.0593\n",
            "Epoch 94/100\n",
            "5/5 [==============================] - 0s 26ms/step - loss: 0.9218 - val_loss: 1.0461\n",
            "Epoch 95/100\n",
            "5/5 [==============================] - 0s 24ms/step - loss: 0.9099 - val_loss: 1.0287\n",
            "Epoch 96/100\n",
            "5/5 [==============================] - 0s 22ms/step - loss: 0.8981 - val_loss: 1.0210\n",
            "Epoch 97/100\n",
            "5/5 [==============================] - 0s 31ms/step - loss: 0.8881 - val_loss: 1.0072\n",
            "Epoch 98/100\n",
            "5/5 [==============================] - 0s 29ms/step - loss: 0.8752 - val_loss: 1.0060\n",
            "Epoch 99/100\n",
            "5/5 [==============================] - 0s 26ms/step - loss: 0.8678 - val_loss: 1.0035\n",
            "Epoch 100/100\n",
            "5/5 [==============================] - 0s 27ms/step - loss: 0.8559 - val_loss: 0.9856\n",
            "2/2 [==============================] - 0s 12ms/step - loss: 1.0145\n",
            "Neural Network MSE: 1.014461636543274\n"
          ]
        }
      ]
    },
    {
      "cell_type": "markdown",
      "source": [
        "K-Nearest Neighbors Regression"
      ],
      "metadata": {
        "id": "xeRr2A-5_50k"
      }
    },
    {
      "cell_type": "code",
      "source": [
        "from sklearn.neighbors import KNeighborsRegressor\n",
        "from sklearn.metrics import mean_squared_error\n",
        "\n",
        "# Splitting the data into features (X) and target (y)\n",
        "X = X_clean[['factor_1','factor_2','factor_5']]\n",
        "y = y_clean\n",
        "\n",
        "X_train, X_test, y_train, y_test = train_test_split(X, y, test_size=0.2, random_state=42)\n",
        "\n",
        "# Creating and fitting the KNN model\n",
        "knn_model = KNeighborsRegressor(n_neighbors=5)\n",
        "knn_model.fit(X_train, y_train)\n",
        "\n",
        "# Predicting the test set\n",
        "y_pred = knn_model.predict(X_test)\n",
        "\n",
        "# Calculating the mean squared error\n",
        "knn_mse = mean_squared_error(y_test, y_pred)\n",
        "print('KNN MSE:', knn_mse)\n"
      ],
      "metadata": {
        "colab": {
          "base_uri": "https://localhost:8080/"
        },
        "id": "B3mlqu7gSPX-",
        "outputId": "68a62bae-6dc7-43a8-bade-319799771810"
      },
      "execution_count": null,
      "outputs": [
        {
          "output_type": "stream",
          "name": "stdout",
          "text": [
            "KNN MSE: 0.8204515200000003\n"
          ]
        }
      ]
    },
    {
      "cell_type": "markdown",
      "source": [
        "Gaussian Process Regression"
      ],
      "metadata": {
        "id": "63bl74JOABxV"
      }
    },
    {
      "cell_type": "code",
      "source": [
        "from sklearn.gaussian_process import GaussianProcessRegressor\n",
        "from sklearn.gaussian_process.kernels import RBF\n",
        "\n",
        "# Splitting the data into features (X) and target (y)\n",
        "X = X_clean[['factor_1','factor_2','factor_5']]\n",
        "y = y_clean\n",
        "\n",
        "X_train, X_test, y_train, y_test = train_test_split(X, y, test_size=0.2, random_state=42)\n",
        "\n",
        "# define Gaussian Process Regressor with RBF kernel\n",
        "kernel = RBF(length_scale=1.0)\n",
        "gpr = GaussianProcessRegressor(kernel=kernel, alpha=0.1, normalize_y=True)\n",
        "\n",
        "# fit model on training data\n",
        "gpr.fit(X_train, y_train)\n",
        "\n",
        "# predict on testing data and calculate MSE\n",
        "y_pred = gpr.predict(X_test)\n",
        "gauss_mse = mean_squared_error(y_test, y_pred)\n",
        "print(\"MSE:\", gauss_mse)\n"
      ],
      "metadata": {
        "colab": {
          "base_uri": "https://localhost:8080/"
        },
        "id": "g48UWUCfSnyq",
        "outputId": "cf6cbb85-6813-4c87-d4ed-9da0a7e5d88d"
      },
      "execution_count": null,
      "outputs": [
        {
          "output_type": "stream",
          "name": "stdout",
          "text": [
            "MSE: 0.9230068222426783\n"
          ]
        }
      ]
    },
    {
      "cell_type": "markdown",
      "source": [
        "Bayesian Regression"
      ],
      "metadata": {
        "id": "HapC124XALWZ"
      }
    },
    {
      "cell_type": "code",
      "source": [
        "from sklearn.linear_model import BayesianRidge\n",
        "from sklearn.metrics import mean_squared_error\n",
        "\n",
        "# Splitting the data into features (X) and target (y)\n",
        "X = X_clean[['factor_1','factor_2','factor_5']]\n",
        "y = y_clean\n",
        "\n",
        "# Split the data into training and test sets\n",
        "X_train, X_test, y_train, y_test = train_test_split(X, y, test_size=0.2, random_state=42)\n",
        "\n",
        "# Create and fit the model\n",
        "model = BayesianRidge()\n",
        "model.fit(X_train, y_train)\n",
        "\n",
        "# Make predictions and calculate MSE\n",
        "y_pred = model.predict(X_test)\n",
        "bayesian_mse = mean_squared_error(y_test, y_pred)\n",
        "\n",
        "print(\"Bayesian Regression MSE:\", bayesian_mse)\n"
      ],
      "metadata": {
        "colab": {
          "base_uri": "https://localhost:8080/"
        },
        "id": "1FXM2ewUSsAy",
        "outputId": "2249437b-0343-48de-ba6f-69d85f39eb4b"
      },
      "execution_count": null,
      "outputs": [
        {
          "output_type": "stream",
          "name": "stdout",
          "text": [
            "Bayesian Regression MSE: 0.817035380044785\n"
          ]
        }
      ]
    },
    {
      "cell_type": "markdown",
      "source": [
        "Polynomial Regression"
      ],
      "metadata": {
        "id": "8QYF1-6vAQSn"
      }
    },
    {
      "cell_type": "code",
      "source": [
        "from sklearn.preprocessing import PolynomialFeatures\n",
        "from sklearn.linear_model import LinearRegression\n",
        "from sklearn.metrics import mean_squared_error\n",
        "\n",
        "X = X_clean[['factor_1','factor_2','factor_5']]\n",
        "y = y_clean\n",
        "\n",
        "# Split the data into training and test sets\n",
        "X_train, X_test, y_train, y_test = train_test_split(X, y, test_size=0.2, random_state=42)\n",
        "\n",
        "# Define the degree of polynomial\n",
        "degree = 2\n",
        "\n",
        "# Create polynomial features\n",
        "poly = PolynomialFeatures(degree=degree)\n",
        "X_poly = poly.fit_transform(X_train)\n",
        "\n",
        "# Fit the model using Linear Regression\n",
        "regressor = LinearRegression()\n",
        "regressor.fit(X_poly, y_train)\n",
        "\n",
        "# Predict the test set results\n",
        "y_pred = regressor.predict(poly.transform(X_test))\n",
        "\n",
        "# Calculate the MSE\n",
        "poly_mse = mean_squared_error(y_test, y_pred)\n",
        "\n",
        "print(\"Polynomial Regression MSE:\", poly_mse)\n"
      ],
      "metadata": {
        "colab": {
          "base_uri": "https://localhost:8080/"
        },
        "id": "8NULZ8-nS0uO",
        "outputId": "4ed3bcc6-4f97-473c-8470-6d9a9bfbb08a"
      },
      "execution_count": null,
      "outputs": [
        {
          "output_type": "stream",
          "name": "stdout",
          "text": [
            "Polynomial Regression MSE: 0.7193480434484103\n"
          ]
        }
      ]
    },
    {
      "cell_type": "code",
      "source": [
        "import matplotlib.pyplot as plt\n",
        "import pandas as pd\n",
        "\n",
        "# Create a dictionary to store the MSE values for each regression model\n",
        "mse_dict = {'Linear Regression': linear_mse, \n",
        "            'Ridge Regression': ridge_mse,\n",
        "            'Lasso Regression': lasso_mse,\n",
        "            'Decision Tree Regression': dt_mse,\n",
        "            'Random Forest Regression': rf_mse,\n",
        "            'Support Vector Regression': svr_mse,\n",
        "            'ElasticNet Regression': elastic_mse,\n",
        "            'Gradient Boosting Regression': gb_mse,\n",
        "            'Neural Network Regression': nn_mse,\n",
        "            'K-Nearest Neighbors Regression': knn_mse,\n",
        "            'Gaussian Process Regression': gauss_mse,\n",
        "            'Bayesian Regression': bayesian_mse,\n",
        "            'Polynomial Regression': poly_mse}\n",
        "\n",
        "# Convert the dictionary to a pandas dataframe\n",
        "mse_df = pd.DataFrame.from_dict(mse_dict, orient='index', columns=['MSE'])\n",
        "\n",
        "# Define the colors for the bars\n",
        "colors = ['tab:blue', 'tab:orange', 'tab:green', 'tab:red', 'tab:purple', 'tab:brown',\n",
        "          'tab:pink', 'tab:gray', 'tab:olive', 'tab:cyan', 'magenta', 'brown', 'pink']\n",
        "\n",
        "# Plot the MSE values as a spaced bar graph with color\n",
        "fig, ax = plt.subplots(figsize=(10, 5))\n",
        "mse_df.plot(kind='bar', y='MSE', ax=ax, width=0.5, align='center', color=colors)\n",
        "ax.set_ylabel('MSE')\n",
        "ax.set_title('Comparison of Regression Models')\n",
        "plt.tight_layout()\n",
        "plt.show()"
      ],
      "metadata": {
        "colab": {
          "base_uri": "https://localhost:8080/",
          "height": 352
        },
        "id": "bmQppHJmTSoi",
        "outputId": "0d0ad6eb-9d05-4f8b-a810-decabae61503"
      },
      "execution_count": null,
      "outputs": [
        {
          "output_type": "display_data",
          "data": {
            "text/plain": [
              "<Figure size 1000x500 with 1 Axes>"
            ],
            "image/png": "[encoded data removed]"
          },
          "metadata": {}
        }
      ]
    },
    {
      "cell_type": "code",
      "source": [
        "mse_series = pd.Series(mse_dict)\n",
        "print(mse_series)"
      ],
      "metadata": {
        "colab": {
          "base_uri": "https://localhost:8080/"
        },
        "id": "_VAgSopWT1oP",
        "outputId": "455ba70f-762d-4015-b347-a8caf49b27d4"
      },
      "execution_count": null,
      "outputs": [
        {
          "output_type": "stream",
          "name": "stdout",
          "text": [
            "Linear Regression                 0.847658\n",
            "Ridge Regression                  0.818164\n",
            "Lasso Regression                  1.138988\n",
            "Decision Tree Regression          1.057662\n",
            "Random Forest Regression          0.872453\n",
            "Support Vector Regression         0.695761\n",
            "ElasticNet Regression             0.833072\n",
            "Gradient Boosting Regression      0.752068\n",
            "Neural Network Regression         1.014462\n",
            "K-Nearest Neighbors Regression    0.820452\n",
            "Gaussian Process Regression       0.923007\n",
            "Bayesian Regression               0.817035\n",
            "Polynomial Regression             0.719348\n",
            "dtype: float64\n"
          ]
        }
      ]
    }
  ]
}